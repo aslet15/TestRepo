{
 "cells": [
  {
   "cell_type": "markdown",
   "id": "66df0cd3-d00c-4b78-a240-7440f28440c6",
   "metadata": {},
   "source": []
  },
  {
   "cell_type": "markdown",
   "id": "4ba5be49-4b50-4152-875f-4a0d03704510",
   "metadata": {
    "tags": []
   },
   "source": [
    "# Data Science Tools and Ecosystem"
   ]
  },
  {
   "cell_type": "markdown",
   "id": "d0809f87-1841-42b1-95e3-41997f2b92a2",
   "metadata": {},
   "source": [
    "In this notebook, Data Science Tools and Ecosystem are summarized."
   ]
  },
  {
   "cell_type": "markdown",
   "id": "d46e309b-f292-4773-8fb3-19135dd25415",
   "metadata": {},
   "source": [
    "**Objectives:**\n",
    "* Ordered list of popular languages in Data Science\n",
    "* Ordered list of common libraries in Data Science\n",
    "* Table of tools in Data Science"
   ]
  },
  {
   "cell_type": "markdown",
   "id": "74ab86c7-b1d9-41ae-817e-8ee189b083dd",
   "metadata": {},
   "source": [
    "Some of the popular languages that Data Scientists use are:\n",
    "1. Python\n",
    "2. R\n",
    "3. Visual "
   ]
  },
  {
   "cell_type": "markdown",
   "id": "738c463a-a307-4c2a-809d-7487eb1d4667",
   "metadata": {},
   "source": [
    "Some of the commonly used libraries used by Data Scientists include:\n",
    "1. Pandas\n",
    "2. PyTorch\n",
    "3. Keras"
   ]
  },
  {
   "cell_type": "markdown",
   "id": "3a99f9c6-1b2d-4a20-95d1-7ef083ae9c25",
   "metadata": {},
   "source": [
    "| Data Science Tools |\n",
    "|------------------|\n",
    "|Jupyter|\n",
    "|Anaconda|\n",
    "|Spyder|\n"
   ]
  },
  {
   "cell_type": "markdown",
   "id": "7116b6d0-5f63-45ad-8f6f-eaaaa3418917",
   "metadata": {
    "tags": []
   },
   "source": [
    "### Below are a few examples of evaluating arithmetic expressions in Python"
   ]
  },
  {
   "cell_type": "code",
   "execution_count": 4,
   "id": "59659c29-a690-4855-bfa4-c1c56dcd6538",
   "metadata": {
    "tags": []
   },
   "outputs": [
    {
     "data": {
      "text/plain": [
       "17"
      ]
     },
     "execution_count": 4,
     "metadata": {},
     "output_type": "execute_result"
    }
   ],
   "source": [
    "# This a simple arithmetic expression to mutiply then add integers\n",
    "(3*4)+5"
   ]
  },
  {
   "cell_type": "code",
   "execution_count": 7,
   "id": "858d23b9-8886-48e0-a3d0-7173b3b074c3",
   "metadata": {
    "tags": []
   },
   "outputs": [
    {
     "data": {
      "text/plain": [
       "3.3333333333333335"
      ]
     },
     "execution_count": 7,
     "metadata": {},
     "output_type": "execute_result"
    }
   ],
   "source": [
    "# This will convert 200 minutes to hours by diving by 60\n",
    "200/60"
   ]
  },
  {
   "cell_type": "markdown",
   "id": "bb38b37b-0ed9-4f87-98ae-134ac0ad6946",
   "metadata": {},
   "source": []
  }
 ],
 "metadata": {
  "kernelspec": {
   "display_name": "Python",
   "language": "python",
   "name": "conda-env-python-py"
  },
  "language_info": {
   "codemirror_mode": {
    "name": "ipython",
    "version": 3
   },
   "file_extension": ".py",
   "mimetype": "text/x-python",
   "name": "python",
   "nbconvert_exporter": "python",
   "pygments_lexer": "ipython3",
   "version": "3.7.12"
  }
 },
 "nbformat": 4,
 "nbformat_minor": 5
}
